{
  "nbformat": 4,
  "nbformat_minor": 0,
  "metadata": {
    "colab": {
      "name": "NFIQ2_Visualization.ipynb",
      "provenance": [],
      "collapsed_sections": [],
      "authorship_tag": "ABX9TyPUAO/TjWWCTrL6CSeFAbZc",
      "include_colab_link": true
    },
    "kernelspec": {
      "name": "python3",
      "display_name": "Python 3"
    },
    "language_info": {
      "name": "python"
    }
  },
  "cells": [
    {
      "cell_type": "markdown",
      "metadata": {
        "id": "view-in-github",
        "colab_type": "text"
      },
      "source": [
        "<a href=\"https://colab.research.google.com/github/ZnattapolZ/Enhancing-The-Visualization-of-Latent-Fingerprint/blob/main/%5BNFIQ%202.0%5D%20-%20NFIQ%20Score%20Visualization.ipynb\" target=\"_parent\"><img src=\"https://colab.research.google.com/assets/colab-badge.svg\" alt=\"Open In Colab\"/></a>"
      ]
    },
    {
      "cell_type": "markdown",
      "metadata": {
        "id": "SxQG-KHjIpJn"
      },
      "source": [
        "# Visualization for NFIQ score "
      ]
    },
    {
      "cell_type": "code",
      "metadata": {
        "id": "MTjujTawIj7U"
      },
      "source": [
        "import numpy as np\n",
        "import matplotlib.pyplot as plt\n",
        "import pandas as pd\n",
        "\n",
        "import os\n"
      ],
      "execution_count": null,
      "outputs": []
    },
    {
      "cell_type": "code",
      "metadata": {
        "id": "GG3BCDo3XZif"
      },
      "source": [
        "def extract_image_name(path_list):\n",
        "  extracted_list = []\n",
        "  for path in path_list:\n",
        "    file_name = os.path.basename(path)\n",
        "    extracted_list.append(file_name)\n",
        "  return extracted_list"
      ],
      "execution_count": null,
      "outputs": []
    },
    {
      "cell_type": "code",
      "metadata": {
        "colab": {
          "base_uri": "https://localhost:8080/"
        },
        "id": "Mw0CDPaSR0Xr",
        "outputId": "b2f06525-93ff-45f0-b03a-f4aceaef58e7"
      },
      "source": [
        "from google.colab import drive\n",
        "drive.mount('/content/drive')"
      ],
      "execution_count": null,
      "outputs": [
        {
          "output_type": "stream",
          "text": [
            "Drive already mounted at /content/drive; to attempt to forcibly remount, call drive.mount(\"/content/drive\", force_remount=True).\n"
          ],
          "name": "stdout"
        }
      ]
    },
    {
      "cell_type": "markdown",
      "metadata": {
        "id": "lpUyQJDDb_bP"
      },
      "source": [
        "# Read CSV Then make DF"
      ]
    },
    {
      "cell_type": "code",
      "metadata": {
        "id": "L3Y7jTdgRZv7"
      },
      "source": [
        "BEFORE_CSV = '/content/drive/MyDrive/data_samples/synth_data_500dpi/input_test_reshape.csv'\n",
        "AFTER_CSV = '/content/drive/MyDrive/data_samples/synth_data_500dpi/output_epoch9.csv'"
      ],
      "execution_count": null,
      "outputs": []
    },
    {
      "cell_type": "code",
      "metadata": {
        "id": "SUPIUDIOSHlk"
      },
      "source": [
        "nfiq_pd_1 = pd.read_csv(BEFORE_CSV)\n",
        "nfiq_pd_2 = pd.read_csv(AFTER_CSV)"
      ],
      "execution_count": null,
      "outputs": []
    },
    {
      "cell_type": "code",
      "metadata": {
        "id": "ITkqS-fqXct3"
      },
      "source": [
        "name_list_1 = extract_image_name(nfiq_pd_1.Filename)\n",
        "name_list_2 = extract_image_name(nfiq_pd_2.Filename)"
      ],
      "execution_count": null,
      "outputs": []
    },
    {
      "cell_type": "code",
      "metadata": {
        "id": "nsetYn1FXmf0"
      },
      "source": [
        "nfiq_pd_1['Name'] = name_list_1\n",
        "nfiq_pd_2['Name'] = name_list_2"
      ],
      "execution_count": null,
      "outputs": []
    },
    {
      "cell_type": "code",
      "metadata": {
        "id": "GudJ2t51ZnmP"
      },
      "source": [
        "nfiq_pd = pd.concat([nfiq_pd_1['Name'], nfiq_pd_1['QualityScore'], nfiq_pd_2['QualityScore']], axis=1, keys=['Name', 'QBefore', 'QAfter'])"
      ],
      "execution_count": null,
      "outputs": []
    },
    {
      "cell_type": "code",
      "metadata": {
        "colab": {
          "base_uri": "https://localhost:8080/",
          "height": 435
        },
        "id": "dhSwrE81rlMp",
        "outputId": "00e282ef-3710-49f5-bef4-560015dd22c3"
      },
      "source": [
        "nfiq_pd_merge = pd.merge(nfiq_pd_1, nfiq_pd_2, 'left', on=['Name'])\n",
        "nfiq_pd_merge"
      ],
      "execution_count": null,
      "outputs": [
        {
          "output_type": "execute_result",
          "data": {
            "text/html": [
              "<div>\n",
              "<style scoped>\n",
              "    .dataframe tbody tr th:only-of-type {\n",
              "        vertical-align: middle;\n",
              "    }\n",
              "\n",
              "    .dataframe tbody tr th {\n",
              "        vertical-align: top;\n",
              "    }\n",
              "\n",
              "    .dataframe thead th {\n",
              "        text-align: right;\n",
              "    }\n",
              "</style>\n",
              "<table border=\"1\" class=\"dataframe\">\n",
              "  <thead>\n",
              "    <tr style=\"text-align: right;\">\n",
              "      <th></th>\n",
              "      <th>Filename_x</th>\n",
              "      <th>FingerCode_x</th>\n",
              "      <th>QualityScore_x</th>\n",
              "      <th>OptionalError_x</th>\n",
              "      <th>Quantized_x</th>\n",
              "      <th>Resampled_x</th>\n",
              "      <th>Name</th>\n",
              "      <th>Filename_y</th>\n",
              "      <th>FingerCode_y</th>\n",
              "      <th>QualityScore_y</th>\n",
              "      <th>OptionalError_y</th>\n",
              "      <th>Quantized_y</th>\n",
              "      <th>Resampled_y</th>\n",
              "    </tr>\n",
              "  </thead>\n",
              "  <tbody>\n",
              "    <tr>\n",
              "      <th>0</th>\n",
              "      <td>E:\\nfiq2_exe\\images\\input_test_reshape/10000.png</td>\n",
              "      <td>0</td>\n",
              "      <td>38</td>\n",
              "      <td>NaN</td>\n",
              "      <td>0</td>\n",
              "      <td>0</td>\n",
              "      <td>10000.png</td>\n",
              "      <td>E:\\nfiq2_exe\\images\\output_9/10000.png</td>\n",
              "      <td>0</td>\n",
              "      <td>64</td>\n",
              "      <td>NaN</td>\n",
              "      <td>0</td>\n",
              "      <td>0</td>\n",
              "    </tr>\n",
              "    <tr>\n",
              "      <th>1</th>\n",
              "      <td>E:\\nfiq2_exe\\images\\input_test_reshape/8001.png</td>\n",
              "      <td>0</td>\n",
              "      <td>41</td>\n",
              "      <td>NaN</td>\n",
              "      <td>0</td>\n",
              "      <td>0</td>\n",
              "      <td>8001.png</td>\n",
              "      <td>E:\\nfiq2_exe\\images\\output_9/8001.png</td>\n",
              "      <td>0</td>\n",
              "      <td>62</td>\n",
              "      <td>NaN</td>\n",
              "      <td>0</td>\n",
              "      <td>0</td>\n",
              "    </tr>\n",
              "    <tr>\n",
              "      <th>2</th>\n",
              "      <td>E:\\nfiq2_exe\\images\\input_test_reshape/8002.png</td>\n",
              "      <td>0</td>\n",
              "      <td>48</td>\n",
              "      <td>NaN</td>\n",
              "      <td>0</td>\n",
              "      <td>0</td>\n",
              "      <td>8002.png</td>\n",
              "      <td>E:\\nfiq2_exe\\images\\output_9/8002.png</td>\n",
              "      <td>0</td>\n",
              "      <td>58</td>\n",
              "      <td>NaN</td>\n",
              "      <td>0</td>\n",
              "      <td>0</td>\n",
              "    </tr>\n",
              "    <tr>\n",
              "      <th>3</th>\n",
              "      <td>E:\\nfiq2_exe\\images\\input_test_reshape/8003.png</td>\n",
              "      <td>0</td>\n",
              "      <td>43</td>\n",
              "      <td>NaN</td>\n",
              "      <td>0</td>\n",
              "      <td>0</td>\n",
              "      <td>8003.png</td>\n",
              "      <td>E:\\nfiq2_exe\\images\\output_9/8003.png</td>\n",
              "      <td>0</td>\n",
              "      <td>64</td>\n",
              "      <td>NaN</td>\n",
              "      <td>0</td>\n",
              "      <td>0</td>\n",
              "    </tr>\n",
              "    <tr>\n",
              "      <th>4</th>\n",
              "      <td>E:\\nfiq2_exe\\images\\input_test_reshape/8004.png</td>\n",
              "      <td>0</td>\n",
              "      <td>44</td>\n",
              "      <td>NaN</td>\n",
              "      <td>0</td>\n",
              "      <td>0</td>\n",
              "      <td>8004.png</td>\n",
              "      <td>E:\\nfiq2_exe\\images\\output_9/8004.png</td>\n",
              "      <td>0</td>\n",
              "      <td>60</td>\n",
              "      <td>NaN</td>\n",
              "      <td>0</td>\n",
              "      <td>0</td>\n",
              "    </tr>\n",
              "    <tr>\n",
              "      <th>...</th>\n",
              "      <td>...</td>\n",
              "      <td>...</td>\n",
              "      <td>...</td>\n",
              "      <td>...</td>\n",
              "      <td>...</td>\n",
              "      <td>...</td>\n",
              "      <td>...</td>\n",
              "      <td>...</td>\n",
              "      <td>...</td>\n",
              "      <td>...</td>\n",
              "      <td>...</td>\n",
              "      <td>...</td>\n",
              "      <td>...</td>\n",
              "    </tr>\n",
              "    <tr>\n",
              "      <th>1995</th>\n",
              "      <td>E:\\nfiq2_exe\\images\\input_test_reshape/9995.png</td>\n",
              "      <td>0</td>\n",
              "      <td>43</td>\n",
              "      <td>NaN</td>\n",
              "      <td>0</td>\n",
              "      <td>0</td>\n",
              "      <td>9995.png</td>\n",
              "      <td>E:\\nfiq2_exe\\images\\output_9/9995.png</td>\n",
              "      <td>0</td>\n",
              "      <td>63</td>\n",
              "      <td>NaN</td>\n",
              "      <td>0</td>\n",
              "      <td>0</td>\n",
              "    </tr>\n",
              "    <tr>\n",
              "      <th>1996</th>\n",
              "      <td>E:\\nfiq2_exe\\images\\input_test_reshape/9996.png</td>\n",
              "      <td>0</td>\n",
              "      <td>43</td>\n",
              "      <td>NaN</td>\n",
              "      <td>0</td>\n",
              "      <td>0</td>\n",
              "      <td>9996.png</td>\n",
              "      <td>E:\\nfiq2_exe\\images\\output_9/9996.png</td>\n",
              "      <td>0</td>\n",
              "      <td>55</td>\n",
              "      <td>NaN</td>\n",
              "      <td>0</td>\n",
              "      <td>0</td>\n",
              "    </tr>\n",
              "    <tr>\n",
              "      <th>1997</th>\n",
              "      <td>E:\\nfiq2_exe\\images\\input_test_reshape/9997.png</td>\n",
              "      <td>0</td>\n",
              "      <td>45</td>\n",
              "      <td>NaN</td>\n",
              "      <td>0</td>\n",
              "      <td>0</td>\n",
              "      <td>9997.png</td>\n",
              "      <td>E:\\nfiq2_exe\\images\\output_9/9997.png</td>\n",
              "      <td>0</td>\n",
              "      <td>50</td>\n",
              "      <td>NaN</td>\n",
              "      <td>0</td>\n",
              "      <td>0</td>\n",
              "    </tr>\n",
              "    <tr>\n",
              "      <th>1998</th>\n",
              "      <td>E:\\nfiq2_exe\\images\\input_test_reshape/9998.png</td>\n",
              "      <td>0</td>\n",
              "      <td>56</td>\n",
              "      <td>NaN</td>\n",
              "      <td>0</td>\n",
              "      <td>0</td>\n",
              "      <td>9998.png</td>\n",
              "      <td>E:\\nfiq2_exe\\images\\output_9/9998.png</td>\n",
              "      <td>0</td>\n",
              "      <td>62</td>\n",
              "      <td>NaN</td>\n",
              "      <td>0</td>\n",
              "      <td>0</td>\n",
              "    </tr>\n",
              "    <tr>\n",
              "      <th>1999</th>\n",
              "      <td>E:\\nfiq2_exe\\images\\input_test_reshape/9999.png</td>\n",
              "      <td>0</td>\n",
              "      <td>44</td>\n",
              "      <td>NaN</td>\n",
              "      <td>0</td>\n",
              "      <td>0</td>\n",
              "      <td>9999.png</td>\n",
              "      <td>E:\\nfiq2_exe\\images\\output_9/9999.png</td>\n",
              "      <td>0</td>\n",
              "      <td>54</td>\n",
              "      <td>NaN</td>\n",
              "      <td>0</td>\n",
              "      <td>0</td>\n",
              "    </tr>\n",
              "  </tbody>\n",
              "</table>\n",
              "<p>2000 rows × 13 columns</p>\n",
              "</div>"
            ],
            "text/plain": [
              "                                            Filename_x  ...  Resampled_y\n",
              "0     E:\\nfiq2_exe\\images\\input_test_reshape/10000.png  ...            0\n",
              "1      E:\\nfiq2_exe\\images\\input_test_reshape/8001.png  ...            0\n",
              "2      E:\\nfiq2_exe\\images\\input_test_reshape/8002.png  ...            0\n",
              "3      E:\\nfiq2_exe\\images\\input_test_reshape/8003.png  ...            0\n",
              "4      E:\\nfiq2_exe\\images\\input_test_reshape/8004.png  ...            0\n",
              "...                                                ...  ...          ...\n",
              "1995   E:\\nfiq2_exe\\images\\input_test_reshape/9995.png  ...            0\n",
              "1996   E:\\nfiq2_exe\\images\\input_test_reshape/9996.png  ...            0\n",
              "1997   E:\\nfiq2_exe\\images\\input_test_reshape/9997.png  ...            0\n",
              "1998   E:\\nfiq2_exe\\images\\input_test_reshape/9998.png  ...            0\n",
              "1999   E:\\nfiq2_exe\\images\\input_test_reshape/9999.png  ...            0\n",
              "\n",
              "[2000 rows x 13 columns]"
            ]
          },
          "metadata": {
            "tags": []
          },
          "execution_count": 65
        }
      ]
    },
    {
      "cell_type": "code",
      "metadata": {
        "id": "hWssdtkWs2uH"
      },
      "source": [
        "nfiq_pd_merged_dic = {\n",
        "    \"Name\": nfiq_pd_merge.Name,\n",
        "    \"QBefore\": nfiq_pd_merge.QualityScore_x,\n",
        "    \"QAfter\": nfiq_pd_merge.QualityScore_y\n",
        "}\n",
        "nfiq_pd = pd.DataFrame(data=nfiq_pd_merged_dic) "
      ],
      "execution_count": null,
      "outputs": []
    },
    {
      "cell_type": "code",
      "metadata": {
        "colab": {
          "base_uri": "https://localhost:8080/",
          "height": 406
        },
        "id": "ZO4pZxYPbcNc",
        "outputId": "bfd121d5-0a22-4921-fb5f-b1aa5a376aa6"
      },
      "source": [
        "nfiq_pd"
      ],
      "execution_count": null,
      "outputs": [
        {
          "output_type": "execute_result",
          "data": {
            "text/html": [
              "<div>\n",
              "<style scoped>\n",
              "    .dataframe tbody tr th:only-of-type {\n",
              "        vertical-align: middle;\n",
              "    }\n",
              "\n",
              "    .dataframe tbody tr th {\n",
              "        vertical-align: top;\n",
              "    }\n",
              "\n",
              "    .dataframe thead th {\n",
              "        text-align: right;\n",
              "    }\n",
              "</style>\n",
              "<table border=\"1\" class=\"dataframe\">\n",
              "  <thead>\n",
              "    <tr style=\"text-align: right;\">\n",
              "      <th></th>\n",
              "      <th>Name</th>\n",
              "      <th>QBefore</th>\n",
              "      <th>QAfter</th>\n",
              "    </tr>\n",
              "  </thead>\n",
              "  <tbody>\n",
              "    <tr>\n",
              "      <th>0</th>\n",
              "      <td>10000.png</td>\n",
              "      <td>38</td>\n",
              "      <td>64</td>\n",
              "    </tr>\n",
              "    <tr>\n",
              "      <th>1</th>\n",
              "      <td>8001.png</td>\n",
              "      <td>41</td>\n",
              "      <td>62</td>\n",
              "    </tr>\n",
              "    <tr>\n",
              "      <th>2</th>\n",
              "      <td>8002.png</td>\n",
              "      <td>48</td>\n",
              "      <td>58</td>\n",
              "    </tr>\n",
              "    <tr>\n",
              "      <th>3</th>\n",
              "      <td>8003.png</td>\n",
              "      <td>43</td>\n",
              "      <td>64</td>\n",
              "    </tr>\n",
              "    <tr>\n",
              "      <th>4</th>\n",
              "      <td>8004.png</td>\n",
              "      <td>44</td>\n",
              "      <td>60</td>\n",
              "    </tr>\n",
              "    <tr>\n",
              "      <th>...</th>\n",
              "      <td>...</td>\n",
              "      <td>...</td>\n",
              "      <td>...</td>\n",
              "    </tr>\n",
              "    <tr>\n",
              "      <th>1995</th>\n",
              "      <td>9995.png</td>\n",
              "      <td>43</td>\n",
              "      <td>63</td>\n",
              "    </tr>\n",
              "    <tr>\n",
              "      <th>1996</th>\n",
              "      <td>9996.png</td>\n",
              "      <td>43</td>\n",
              "      <td>55</td>\n",
              "    </tr>\n",
              "    <tr>\n",
              "      <th>1997</th>\n",
              "      <td>9997.png</td>\n",
              "      <td>45</td>\n",
              "      <td>50</td>\n",
              "    </tr>\n",
              "    <tr>\n",
              "      <th>1998</th>\n",
              "      <td>9998.png</td>\n",
              "      <td>56</td>\n",
              "      <td>62</td>\n",
              "    </tr>\n",
              "    <tr>\n",
              "      <th>1999</th>\n",
              "      <td>9999.png</td>\n",
              "      <td>44</td>\n",
              "      <td>54</td>\n",
              "    </tr>\n",
              "  </tbody>\n",
              "</table>\n",
              "<p>2000 rows × 3 columns</p>\n",
              "</div>"
            ],
            "text/plain": [
              "           Name  QBefore  QAfter\n",
              "0     10000.png       38      64\n",
              "1      8001.png       41      62\n",
              "2      8002.png       48      58\n",
              "3      8003.png       43      64\n",
              "4      8004.png       44      60\n",
              "...         ...      ...     ...\n",
              "1995   9995.png       43      63\n",
              "1996   9996.png       43      55\n",
              "1997   9997.png       45      50\n",
              "1998   9998.png       56      62\n",
              "1999   9999.png       44      54\n",
              "\n",
              "[2000 rows x 3 columns]"
            ]
          },
          "metadata": {
            "tags": []
          },
          "execution_count": 67
        }
      ]
    },
    {
      "cell_type": "code",
      "metadata": {
        "colab": {
          "base_uri": "https://localhost:8080/"
        },
        "id": "dmH9Ox3dhUPE",
        "outputId": "87e9d683-2fb0-4a62-fef7-518a6cf7dfe7"
      },
      "source": [
        "global_min = min(min(nfiq_pd['QBefore']), min(nfiq_pd['QAfter']))\n",
        "global_max = max(max(nfiq_pd['QBefore']), max(nfiq_pd['QAfter']))\n",
        "\n",
        "print(global_min)\n",
        "print(global_max)"
      ],
      "execution_count": null,
      "outputs": [
        {
          "output_type": "stream",
          "text": [
            "21\n",
            "73\n"
          ],
          "name": "stdout"
        }
      ]
    },
    {
      "cell_type": "markdown",
      "metadata": {
        "id": "AT0HA3yvcjKA"
      },
      "source": [
        "# Visualization"
      ]
    },
    {
      "cell_type": "code",
      "metadata": {
        "colab": {
          "base_uri": "https://localhost:8080/",
          "height": 592
        },
        "id": "lmKPQWzvSc6J",
        "outputId": "748816fa-518a-48af-e0b4-f944972b9044"
      },
      "source": [
        "bins = np.linspace(global_min, global_max, global_max - global_min+1)\n",
        "\n",
        "plt.figure(figsize=(20,10))\n",
        "plt.hist(nfiq_pd['QBefore'], bins=bins, alpha=0.5, label='before', color='salmon')\n",
        "plt.hist(nfiq_pd['QAfter'], bins=bins, alpha=0.5, label='after', color='cornflowerblue')\n",
        "plt.legend(loc='upper right')\n",
        "plt.show()"
      ],
      "execution_count": null,
      "outputs": [
        {
          "output_type": "display_data",
          "data": {
            "image/png": "[encoded data removed]",
            "text/plain": [
              "<Figure size 1440x720 with 1 Axes>"
            ]
          },
          "metadata": {
            "tags": [],
            "needs_background": "light"
          }
        }
      ]
    },
    {
      "cell_type": "code",
      "metadata": {
        "colab": {
          "base_uri": "https://localhost:8080/",
          "height": 605
        },
        "id": "qc716KA9gECv",
        "outputId": "152605f3-c4b7-4135-a1f7-51aacc89871e"
      },
      "source": [
        "bins = np.linspace(global_min, global_max, global_max - global_min+1)\n",
        "\n",
        "plt.figure(figsize=(20,10))\n",
        "plt.hist([nfiq_pd['QBefore'],nfiq_pd['QAfter']], bins=bins, rwidth=0.8, align='left')\n",
        "plt.legend([\"Before\", \"After\"], loc='upper right')\n",
        "plt.xticks(bins)\n",
        "plt.ylabel(\"No. of Images\")\n",
        "plt.xlabel(\"NFIQ2 Score\")\n",
        "plt.show()"
      ],
      "execution_count": null,
      "outputs": [
        {
          "output_type": "display_data",
          "data": {
            "image/png": "[encoded data removed]",
            "text/plain": [
              "<Figure size 1440x720 with 1 Axes>"
            ]
          },
          "metadata": {
            "tags": [],
            "needs_background": "light"
          }
        }
      ]
    },
    {
      "cell_type": "code",
      "metadata": {
        "id": "8GmqTrduTEhW",
        "colab": {
          "base_uri": "https://localhost:8080/"
        },
        "outputId": "b75df041-5dac-404a-c150-f5fdd87a8a92"
      },
      "source": [
        "print(\"Mean of Before: \", nfiq_pd['QBefore'].mean())\n",
        "print(\"Median of Before: \", nfiq_pd['QBefore'].median())"
      ],
      "execution_count": null,
      "outputs": [
        {
          "output_type": "stream",
          "text": [
            "Mean of Before:  44.0525\n",
            "Median of Before:  44.0\n"
          ],
          "name": "stdout"
        }
      ]
    },
    {
      "cell_type": "markdown",
      "metadata": {
        "id": "enQraCqZuIWz"
      },
      "source": [
        "# Hypotesis Tests\n",
        "\n"
      ]
    },
    {
      "cell_type": "markdown",
      "metadata": {
        "id": "8m4pI5DPwQgm"
      },
      "source": [
        "## Kolmogorov Smirnov Normality Test \n"
      ]
    },
    {
      "cell_type": "code",
      "metadata": {
        "colab": {
          "base_uri": "https://localhost:8080/",
          "height": 296
        },
        "id": "9AbYg472MPKq",
        "outputId": "af0c5d00-eaec-498d-d105-8e58d487edde"
      },
      "source": [
        "from statsmodels.graphics.gofplots import qqplot\n",
        "data = nfiq_pd['QBefore']\n",
        "qqplot(data, line='s'), plt.show()"
      ],
      "execution_count": null,
      "outputs": [
        {
          "output_type": "display_data",
          "data": {
            "image/png": "[encoded data removed]",
            "text/plain": [
              "<Figure size 432x288 with 1 Axes>"
            ]
          },
          "metadata": {
            "tags": [],
            "needs_background": "light"
          }
        },
        {
          "output_type": "execute_result",
          "data": {
            "text/plain": [
              "(<Figure size 432x288 with 1 Axes>, None)"
            ]
          },
          "metadata": {
            "tags": []
          },
          "execution_count": 74
        }
      ]
    },
    {
      "cell_type": "code",
      "metadata": {
        "colab": {
          "base_uri": "https://localhost:8080/",
          "height": 296
        },
        "id": "WFr8sSGKSTNU",
        "outputId": "5d8e4e69-75a2-451c-e203-3613982038e1"
      },
      "source": [
        "data_after = nfiq_pd['QAfter']\n",
        "qqplot(data_after, line='s'), plt.show()"
      ],
      "execution_count": null,
      "outputs": [
        {
          "output_type": "display_data",
          "data": {
            "image/png": "[encoded data removed]",
            "text/plain": [
              "<Figure size 432x288 with 1 Axes>"
            ]
          },
          "metadata": {
            "tags": [],
            "needs_background": "light"
          }
        },
        {
          "output_type": "execute_result",
          "data": {
            "text/plain": [
              "(<Figure size 432x288 with 1 Axes>, None)"
            ]
          },
          "metadata": {
            "tags": []
          },
          "execution_count": 75
        }
      ]
    },
    {
      "cell_type": "code",
      "metadata": {
        "id": "nNPCW32Juij9",
        "colab": {
          "base_uri": "https://localhost:8080/"
        },
        "outputId": "e8b9019e-4040-47ca-817f-3fecdca6e071"
      },
      "source": [
        "from scipy.stats import kstest\n",
        "\n",
        "data = nfiq_pd['QBefore'].tolist()\n",
        "stat, p = kstest(data,'norm', N = 2000)\n",
        "if p <= 0.05:\n",
        "  print(\"Not Normal Distribution\")\n",
        "else:\n",
        "  print(\"Normal Distribution\")\n",
        "\n",
        "print('stat = ', stat)\n",
        "print('p value = ', p)"
      ],
      "execution_count": null,
      "outputs": [
        {
          "output_type": "stream",
          "text": [
            "Not Normal Distribution\n",
            "stat =  1.0\n",
            "p value =  0.0\n"
          ],
          "name": "stdout"
        }
      ]
    },
    {
      "cell_type": "code",
      "metadata": {
        "colab": {
          "base_uri": "https://localhost:8080/"
        },
        "id": "fWu1S0RcG_Xq",
        "outputId": "eace3c9e-2bb4-4dbe-ab10-e8438d585648"
      },
      "source": [
        "from scipy.stats import anderson\n",
        "result = anderson(data)\n",
        "print('Statistic: %.3f' % result.statistic)\n",
        "p = 0\n",
        "for i in range(len(result.critical_values)):\n",
        "\tsl, cv = result.significance_level[i], result.critical_values[i]\n",
        "\tif result.statistic < result.critical_values[i]:\n",
        "\t\tprint('%.3f: %.3f, data looks normal (fail to reject H0)' % (sl, cv))\n",
        "\telse:\n",
        "\t\tprint('%.3f: %.3f, data does not look normal (reject H0)' % (sl, cv))"
      ],
      "execution_count": null,
      "outputs": [
        {
          "output_type": "stream",
          "text": [
            "Statistic: 3.532\n",
            "15.000: 0.575, data does not look normal (reject H0)\n",
            "10.000: 0.655, data does not look normal (reject H0)\n",
            "5.000: 0.785, data does not look normal (reject H0)\n",
            "2.500: 0.916, data does not look normal (reject H0)\n",
            "1.000: 1.090, data does not look normal (reject H0)\n"
          ],
          "name": "stdout"
        }
      ]
    },
    {
      "cell_type": "code",
      "metadata": {
        "id": "nBXRgXpRyUvL",
        "colab": {
          "base_uri": "https://localhost:8080/"
        },
        "outputId": "f662c44b-7146-40d0-eebe-889b45a52165"
      },
      "source": [
        "from scipy.stats import ttest_rel\n",
        "\n",
        "# Python paired sample t-test\n",
        "pair_t_test_result = ttest_rel(data, data_after)\n",
        "pair_t_test_result\n"
      ],
      "execution_count": null,
      "outputs": [
        {
          "output_type": "execute_result",
          "data": {
            "text/plain": [
              "Ttest_relResult(statistic=-90.62672428814987, pvalue=0.0)"
            ]
          },
          "metadata": {
            "tags": []
          },
          "execution_count": 78
        }
      ]
    },
    {
      "cell_type": "code",
      "metadata": {
        "id": "xLfskuwH9pdg"
      },
      "source": [
        "from scipy.stats import wilcoxon"
      ],
      "execution_count": null,
      "outputs": []
    },
    {
      "cell_type": "code",
      "metadata": {
        "colab": {
          "base_uri": "https://localhost:8080/"
        },
        "id": "oJaDT4TCG4-k",
        "outputId": "3b6b6189-a281-4c30-f6eb-a88e4622bee8"
      },
      "source": [
        "wilcoxon(nfiq_pd['QBefore'], nfiq_pd['QAfter'])"
      ],
      "execution_count": null,
      "outputs": [
        {
          "output_type": "execute_result",
          "data": {
            "text/plain": [
              "WilcoxonResult(statistic=2640.5, pvalue=0.0)"
            ]
          },
          "metadata": {
            "tags": []
          },
          "execution_count": 81
        }
      ]
    },
    {
      "cell_type": "markdown",
      "metadata": {
        "id": "_W6oioM2JgCF"
      },
      "source": [
        "Null hypothesis (H0): The difference between the pairs follows a symmetric distribution around zero.<br>\n",
        "Alternative hypothesis (HA): The difference between the pairs does not follow a symmetric distribution around zero. (median between 2 group is shifted )"
      ]
    },
    {
      "cell_type": "code",
      "metadata": {
        "colab": {
          "base_uri": "https://localhost:8080/"
        },
        "id": "Da5NHQojHgFU",
        "outputId": "a557b867-4dcf-4a75-f16b-19dc7796f761"
      },
      "source": [
        "from scipy.stats import wilcoxon\n",
        "print(wilcoxon(nfiq_pd['QBefore'], nfiq_pd['QAfter']))\n",
        "\n",
        "print(\"              BEFORE       AFTER\")\n",
        "print(\" MEAN :       %.2f        %.2f\" % (nfiq_pd['QBefore'].mean(), nfiq_pd['QAfter'].mean()))\n",
        "print(\" MED  :       %.2f        %.2f\" % (nfiq_pd['QBefore'].median(), nfiq_pd['QAfter'].median()))\n",
        "print(\" VAR  :       %.2f        %.2f\" % (nfiq_pd['QBefore'].var(), nfiq_pd['QAfter'].var()))"
      ],
      "execution_count": null,
      "outputs": [
        {
          "output_type": "stream",
          "text": [
            "WilcoxonResult(statistic=2640.5, pvalue=0.0)\n",
            "              BEFORE       AFTER\n",
            " MEAN :       44.05        58.89\n",
            " MED  :       44.00        59.00\n",
            " VAR  :       31.49        24.92\n"
          ],
          "name": "stdout"
        }
      ]
    },
    {
      "cell_type": "code",
      "metadata": {
        "id": "KPlT2r1aPgZE"
      },
      "source": [
        ""
      ],
      "execution_count": null,
      "outputs": []
    }
  ]
}